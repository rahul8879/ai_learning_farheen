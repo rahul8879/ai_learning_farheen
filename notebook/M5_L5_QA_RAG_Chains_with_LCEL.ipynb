{
 "cells": [
  {
   "cell_type": "markdown",
   "metadata": {
    "id": "jbw4wHV4zlKj"
   },
   "source": [
    "# Explore QA RAG Chains with LCEL"
   ]
  },
  {
   "cell_type": "markdown",
   "metadata": {
    "id": "L1KvMtf54l0d"
   },
   "source": [
    "## Install OpenAI, and LangChain dependencies"
   ]
  },
  {
   "cell_type": "code",
   "execution_count": null,
   "metadata": {},
   "outputs": [],
   "source": [
    "!pip install langchain==0.3.11\n",
    "!pip install langchain-openai==0.2.12\n",
    "!pip install langchain-community==0.3.11\n",
    "!pip install langchain-chroma==0.1.4"
   ]
  },
  {
   "cell_type": "markdown",
   "metadata": {
    "id": "H9c37cLnSrbg"
   },
   "source": [
    "## Enter Open AI API Key"
   ]
  },
  {
   "cell_type": "code",
   "execution_count": null,
   "metadata": {
    "id": "cv3JzCEx_PAd"
   },
   "outputs": [],
   "source": [
    "from getpass import getpass\n",
    "\n",
    "OPENAI_KEY = getpass('Enter Open AI API Key: ')"
   ]
  },
  {
   "cell_type": "markdown",
   "metadata": {
    "id": "1T0s0um5Svfa"
   },
   "source": [
    "## Setup Environment Variables"
   ]
  },
  {
   "cell_type": "code",
   "execution_count": null,
   "metadata": {
    "id": "x1YSuHNF_lbh"
   },
   "outputs": [],
   "source": [
    "import os\n",
    "\n",
    "os.environ['OPENAI_API_KEY'] = OPENAI_KEY"
   ]
  },
  {
   "cell_type": "markdown",
   "metadata": {
    "id": "M8nHAP7XOGOj"
   },
   "source": [
    "### Open AI Embedding Models\n",
    "\n",
    "LangChain enables us to access Open AI embedding models which include the newest models: a smaller and highly efficient `text-embedding-3-small` model, and a larger and more powerful `text-embedding-3-large` model."
   ]
  },
  {
   "cell_type": "code",
   "execution_count": 4,
   "metadata": {
    "id": "jzrIVI2NAHC1"
   },
   "outputs": [],
   "source": [
    "from langchain_openai import OpenAIEmbeddings\n",
    "\n",
    "# details here: https://openai.com/blog/new-embedding-models-and-api-updates\n",
    "openai_embed_model = OpenAIEmbeddings(model='text-embedding-3-small')"
   ]
  },
  {
   "cell_type": "markdown",
   "metadata": {
    "id": "IO3_BzTbTBcJ"
   },
   "source": [
    "## Vector Databases\n",
    "\n",
    "One of the most common ways to store and search over unstructured data is to embed it and store the resulting embedding vectors, and then at query time to embed the unstructured query and retrieve the embedding vectors that are 'most similar' to the embedded query. A vector database takes care of storing embedded data and performing vector search for you.\n",
    "\n",
    "### Chroma Vector DB\n",
    "\n",
    "[Chroma](https://docs.trychroma.com/getting-started) is a AI-native open-source vector database focused on developer productivity and happiness. Chroma is licensed under Apache 2.0."
   ]
  },
  {
   "cell_type": "markdown",
   "metadata": {
    "id": "-PnV9lAXZw9a"
   },
   "source": [
    "### Create a Vector DB and persist on disk\n",
    "\n",
    "Here we initialize a connection to a Chroma vector DB client, and also we want to save to disk, so we simply initialize the Chroma client and pass the directory where we want the data to be saved to."
   ]
  },
  {
   "cell_type": "code",
   "execution_count": 6,
   "metadata": {
    "id": "oABVR8m-6ZiY"
   },
   "outputs": [],
   "source": [
    "docs = [\n",
    " 'Quantum mechanics describes the behavior of very small particles.',\n",
    " 'Photosynthesis is the process by which green plants make food using sunlight.',\n",
    " 'Artificial Intelligence aims to create machines that can think and learn.',\n",
    " 'The pyramids of Egypt are historical monuments that have stood for thousands of years.',\n",
    " 'New Delhi is the capital of India and the seat of all three branches of the Government of India.',\n",
    " 'Biology is the study of living organisms and their interactions with the environment.',\n",
    " 'Music therapy can aid in the mental well-being of individuals.',\n",
    " 'Mumbai is the financial capital and the most populous city of India. It is the financial, commercial, and entertainment capital of South Asia.',\n",
    " 'The Milky Way is just one of billions of galaxies in the universe.',\n",
    " 'Economic theories help understand the distribution of resources in society.',\n",
    " 'Kolkata is the de facto cultural capital of India and a historically and culturally significant city. Calcutta served as the de facto capital of India until 1911.',\n",
    " 'Yoga is an ancient practice that involves physical postures and meditation.'\n",
    "]"
   ]
  },
  {
   "cell_type": "code",
   "execution_count": 7,
   "metadata": {
    "id": "kRYfcrsHUxyZ"
   },
   "outputs": [],
   "source": [
    "from langchain_chroma import Chroma\n",
    "\n",
    "# create vector DB of docs and embeddings - takes 1 min on Colab\n",
    "chroma_db = Chroma.from_texts(texts=docs, collection_name='db_docs',\n",
    "                              # need to set the distance function to cosine else it uses euclidean by default\n",
    "                              # check https://docs.trychroma.com/guides#changing-the-distance-function\n",
    "                              collection_metadata={\"hnsw:space\": \"cosine\"},\n",
    "                              embedding=openai_embed_model)"
   ]
  },
  {
   "cell_type": "markdown",
   "metadata": {
    "id": "bprZC4S6TLfj"
   },
   "source": [
    "## Setup a Vector Database Retriever\n",
    "\n",
    "Here we use the following retrieval strategy:\n",
    "\n",
    "- Similarity with Threshold Retrieval\n"
   ]
  },
  {
   "cell_type": "markdown",
   "metadata": {
    "id": "8foBD2xmCDYc"
   },
   "source": [
    "### Similarity with Threshold Retrieval\n",
    "\n",
    "We use cosine similarity here and retrieve the top 3 similar documents based on the user input query and also introduce a cutoff to not return any documents which are below a certain similarity threshold"
   ]
  },
  {
   "cell_type": "code",
   "execution_count": 8,
   "metadata": {
    "id": "6ROSNwqeCMRS"
   },
   "outputs": [],
   "source": [
    "similarity_threshold_retriever = chroma_db.as_retriever(search_type=\"similarity_score_threshold\",\n",
    "                                                        search_kwargs={\"k\": 3,\n",
    "                                                                       \"score_threshold\": 0.3})"
   ]
  },
  {
   "cell_type": "code",
   "execution_count": 9,
   "metadata": {
    "id": "Nv93k_QpCZv7"
   },
   "outputs": [
    {
     "data": {
      "text/plain": [
       "[Document(metadata={}, page_content='New Delhi is the capital of India and the seat of all three branches of the Government of India.'),\n",
       " Document(metadata={}, page_content='Mumbai is the financial capital and the most populous city of India. It is the financial, commercial, and entertainment capital of South Asia.'),\n",
       " Document(metadata={}, page_content='Kolkata is the de facto cultural capital of India and a historically and culturally significant city. Calcutta served as the de facto capital of India until 1911.')]"
      ]
     },
     "execution_count": 9,
     "metadata": {},
     "output_type": "execute_result"
    }
   ],
   "source": [
    "query = \"what is the capital of India?\"\n",
    "top3_docs = similarity_threshold_retriever.invoke(query)\n",
    "top3_docs"
   ]
  },
  {
   "cell_type": "code",
   "execution_count": 10,
   "metadata": {
    "id": "fpu7Wzo6Cre9"
   },
   "outputs": [
    {
     "data": {
      "text/plain": [
       "[Document(metadata={}, page_content='Kolkata is the de facto cultural capital of India and a historically and culturally significant city. Calcutta served as the de facto capital of India until 1911.'),\n",
       " Document(metadata={}, page_content='New Delhi is the capital of India and the seat of all three branches of the Government of India.'),\n",
       " Document(metadata={}, page_content='Mumbai is the financial capital and the most populous city of India. It is the financial, commercial, and entertainment capital of South Asia.')]"
      ]
     },
     "execution_count": 10,
     "metadata": {},
     "output_type": "execute_result"
    }
   ],
   "source": [
    "query = \"what is the old capital of India?\"\n",
    "top3_docs = similarity_threshold_retriever.invoke(query)\n",
    "top3_docs"
   ]
  },
  {
   "cell_type": "markdown",
   "metadata": {
    "id": "Bfn4Z4Em55bb"
   },
   "source": [
    "## Build a QA RAG Chain\n",
    "\n",
    "To build a RAG chain we need a prompt template which instructs the LLM to not answer questions beyond the scope of the retrieved context documents, there are various such prompts out there, we craft one ourselves below"
   ]
  },
  {
   "cell_type": "code",
   "execution_count": 11,
   "metadata": {
    "id": "8Pu5U9HNkl-q"
   },
   "outputs": [],
   "source": [
    "from langchain_core.prompts import ChatPromptTemplate\n",
    "\n",
    "prompt = \"\"\"You are an assistant for question-answering tasks.\n",
    "            Use the following pieces of retrieved context to answer the question.\n",
    "            If no context is present or if you don't know the answer, just say that you don't know.\n",
    "            Do not make up the answer unless it is there in the provided context.\n",
    "            Keep the answer concise and to the point with regard to the question.\n",
    "\n",
    "            Question:\n",
    "            {question}\n",
    "\n",
    "            Context:\n",
    "            {context}\n",
    "\n",
    "            Answer:\n",
    "         \"\"\"\n",
    "\n",
    "prompt_template = ChatPromptTemplate.from_template(prompt)"
   ]
  },
  {
   "cell_type": "markdown",
   "metadata": {
    "id": "2oeckxFBcc0E"
   },
   "source": [
    "## Load Connection to LLM\n",
    "\n",
    "Here we create a connection to ChatGPT to use later in our chains"
   ]
  },
  {
   "cell_type": "code",
   "execution_count": 24,
   "metadata": {
    "id": "vHa9LMOfcOCV"
   },
   "outputs": [],
   "source": [
    "from langchain_openai import ChatOpenAI\n",
    "\n",
    "chatgpt = ChatOpenAI(model_name='gpt-4o-mini', temperature=0)"
   ]
  },
  {
   "cell_type": "markdown",
   "metadata": {
    "id": "RomJYx8HlRs6"
   },
   "source": [
    "## Legacy LangChain Syntax for QA RAG Chain\n",
    "\n",
    "Here we show you how you can create your own QA RAG Chain with legacy syntax which works well but not recommended as LangChain has been migrating to LCEL chains."
   ]
  },
  {
   "cell_type": "code",
   "execution_count": 13,
   "metadata": {
    "id": "N2nYSn9ojyS4"
   },
   "outputs": [],
   "source": [
    "from langchain.chains import RetrievalQA"
   ]
  },
  {
   "cell_type": "code",
   "execution_count": 14,
   "metadata": {
    "id": "3Rygnfd1jrg_"
   },
   "outputs": [],
   "source": [
    "qa_rag_chain = RetrievalQA.from_chain_type(llm=chatgpt,\n",
    "                                           chain_type=\"stuff\",\n",
    "                                           retriever=similarity_threshold_retriever,\n",
    "                                           chain_type_kwargs={\"prompt\": prompt_template})"
   ]
  },
  {
   "cell_type": "code",
   "execution_count": 15,
   "metadata": {
    "id": "CRDBw3P9lfhM"
   },
   "outputs": [
    {
     "data": {
      "text/plain": [
       "{'query': 'What is the capital of India?',\n",
       " 'result': 'The capital of India is New Delhi.'}"
      ]
     },
     "execution_count": 15,
     "metadata": {},
     "output_type": "execute_result"
    }
   ],
   "source": [
    "query = \"What is the capital of India?\"\n",
    "qa_rag_chain.invoke(query)"
   ]
  },
  {
   "cell_type": "code",
   "execution_count": 16,
   "metadata": {
    "id": "nq-HGSmsEy4x"
   },
   "outputs": [
    {
     "data": {
      "text/plain": [
       "{'query': 'Tell me about new delhi in detail',\n",
       " 'result': 'New Delhi is the capital of India and the seat of all three branches of the Government of India.'}"
      ]
     },
     "execution_count": 16,
     "metadata": {},
     "output_type": "execute_result"
    }
   ],
   "source": [
    "query = \"Tell me about new delhi in detail\"\n",
    "qa_rag_chain.invoke(query)"
   ]
  },
  {
   "cell_type": "code",
   "execution_count": 17,
   "metadata": {
    "id": "iwp5mV3Gl6gq"
   },
   "outputs": [
    {
     "data": {
      "text/plain": [
       "{'query': 'Tell me about the financial capital of India',\n",
       " 'result': 'The financial capital of India is Mumbai.'}"
      ]
     },
     "execution_count": 17,
     "metadata": {},
     "output_type": "execute_result"
    }
   ],
   "source": [
    "query = \"Tell me about the financial capital of India\"\n",
    "qa_rag_chain.invoke(query)"
   ]
  },
  {
   "cell_type": "code",
   "execution_count": 18,
   "metadata": {
    "id": "cRPKBtiUqJgH"
   },
   "outputs": [
    {
     "name": "stderr",
     "output_type": "stream",
     "text": [
      "No relevant docs were retrieved using the relevance score threshold 0.3\n"
     ]
    },
    {
     "data": {
      "text/plain": [
       "{'query': 'Who was the winner of the champions league in 2020?',\n",
       " 'result': \"I don't know.\"}"
      ]
     },
     "execution_count": 18,
     "metadata": {},
     "output_type": "execute_result"
    }
   ],
   "source": [
    "query = \"Who was the winner of the champions league in 2020?\"\n",
    "qa_rag_chain.invoke(query)"
   ]
  },
  {
   "cell_type": "markdown",
   "metadata": {
    "id": "Ng4cKPYfmRyg"
   },
   "source": [
    "## LCEL Syntax for QA RAG Chain - Recommended\n",
    "\n",
    "Here we show you how to create the RAG chain using LangChain's recommended LCEL"
   ]
  },
  {
   "cell_type": "code",
   "execution_count": 19,
   "metadata": {
    "id": "18p2bJahmLX_"
   },
   "outputs": [],
   "source": [
    "from langchain_core.runnables import RunnablePassthrough\n",
    "\n",
    "def format_docs(docs):\n",
    "    return \"\\n\\n\".join(doc.page_content for doc in docs)\n",
    "\n",
    "qa_rag_chain = (\n",
    "    {\n",
    "        \"context\": (similarity_threshold_retriever\n",
    "                      |\n",
    "                    format_docs),\n",
    "        \"question\": RunnablePassthrough()\n",
    "    }\n",
    "      |\n",
    "    prompt_template\n",
    "      |\n",
    "    chatgpt\n",
    ")"
   ]
  },
  {
   "cell_type": "code",
   "execution_count": 20,
   "metadata": {
    "id": "njFlSt9Smznk"
   },
   "outputs": [
    {
     "name": "stdout",
     "output_type": "stream",
     "text": [
      "The capital of India is New Delhi.\n"
     ]
    }
   ],
   "source": [
    "query = \"What is the capital of India?\"\n",
    "result = qa_rag_chain.invoke(query)\n",
    "print(result.content)"
   ]
  },
  {
   "cell_type": "code",
   "execution_count": 21,
   "metadata": {
    "id": "-OfsGdmhnn6u"
   },
   "outputs": [
    {
     "name": "stdout",
     "output_type": "stream",
     "text": [
      "The financial capital of India is Mumbai, which is also the most populous city in the country. It serves as the financial, commercial, and entertainment capital of South Asia.\n"
     ]
    }
   ],
   "source": [
    "query = \"Tell me about the financial capital of India in detail\"\n",
    "result = qa_rag_chain.invoke(query)\n",
    "print(result.content)"
   ]
  },
  {
   "cell_type": "code",
   "execution_count": 22,
   "metadata": {
    "id": "JCDDyZJon0nD"
   },
   "outputs": [
    {
     "name": "stderr",
     "output_type": "stream",
     "text": [
      "No relevant docs were retrieved using the relevance score threshold 0.3\n"
     ]
    },
    {
     "name": "stdout",
     "output_type": "stream",
     "text": [
      "I don't know.\n"
     ]
    }
   ],
   "source": [
    "query = \"What is the fastest animal?\"\n",
    "result = qa_rag_chain.invoke(query)\n",
    "print(result.content)"
   ]
  },
  {
   "cell_type": "code",
   "execution_count": 23,
   "metadata": {
    "id": "1ZQDNlNcn4Z2"
   },
   "outputs": [
    {
     "name": "stdout",
     "output_type": "stream",
     "text": [
      "Plants survive by using photosynthesis to make food using sunlight.\n"
     ]
    }
   ],
   "source": [
    "query = \"How do plants survive?\"\n",
    "result = qa_rag_chain.invoke(query)\n",
    "print(result.content)"
   ]
  }
 ],
 "metadata": {
  "colab": {
   "provenance": []
  },
  "kernelspec": {
   "display_name": "Python 3 (ipykernel)",
   "language": "python",
   "name": "python3"
  },
  "language_info": {
   "codemirror_mode": {
    "name": "ipython",
    "version": 3
   },
   "file_extension": ".py",
   "mimetype": "text/x-python",
   "name": "python",
   "nbconvert_exporter": "python",
   "pygments_lexer": "ipython3",
   "version": "3.11.7"
  }
 },
 "nbformat": 4,
 "nbformat_minor": 4
}
